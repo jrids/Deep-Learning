{
  "nbformat": 4,
  "nbformat_minor": 0,
  "metadata": {
    "colab": {
      "provenance": []
    },
    "kernelspec": {
      "name": "python3",
      "display_name": "Python 3"
    },
    "language_info": {
      "name": "python"
    },
    "accelerator": "GPU"
  },
  "cells": [
    {
      "cell_type": "markdown",
      "source": [
        "# Image Classification using CNN"
      ],
      "metadata": {
        "id": "tPM2wtBQYMlx"
      }
    },
    {
      "cell_type": "markdown",
      "source": [
        "##Background\n",
        "The effort so far has pretty much  been on understanding the classical machine learning algorithms and ofcourse, bringing them to life with some nicer and neater implementations. Give yourself a pat on the back......great job thus far! With your favourite story teller Prajwal Singh (kudos to him) taking a break from his story, we invite you to take a dive into some deep learning stuff. But don't worry, we assure you that he will be back with his story soon.<br> <br> We now move towards understanding and implementing the Convolutional Neural Networks (CNN). Just to give you a background, the advent of the idea of CNNs dates back to 1959, when David Hubel and Torsten Wiesel described “simple cells” and “complex cells” in the human visual cortex. They proposed in 1962 that complex cells achieve spatial invariance by “summing” the output of several simple cells that all prefer the same orientation but different receptive fields (e.g. bottom, middle, or top of an image). By collecting information from a bunch of simple cell minions, the complex cells can respond to horizontal bars that occur anywhere. This concept — that simple detectors can be “summed” to create more complex detectors — is found throughout the human visual system, and is also the fundamental basis of convolution neural network models. <br> <br> Inspired by this idea, networks like LENet and AlexNet were introduced to mark the foundation of modern convolutional neural networks. Ofcourse, after that we witnessed a plenty of new architectures (VGGNet, ResNet, etc), so many in number that the space will get flooded if we try to list them all down."
      ],
      "metadata": {
        "id": "R7qLa7SnU1eC"
      }
    },
    {
      "cell_type": "markdown",
      "source": [
        "##Image Classification\n",
        "\n",
        "Well...you know it already, but just for the sake of completeness - <i>Image classification is the task of assigning a label to an input image from a fixed set of classes.</i> For instance, in the following figure, an image classification model takes in an input image from a dataset and assigns a label to it from the given classes in the dataset. Clearly, that's what you will be doing!<br><br><br>\n",
        "\n",
        "\n",
        "\n",
        "\n",
        "<img src='https://rishabhjain.xyz/ml-class-project/public/images/cat_mod.png' type='image'>\n"
      ],
      "metadata": {
        "id": "RT8BYyonWvJD"
      }
    },
    {
      "cell_type": "markdown",
      "source": [
        "##Objective\n",
        "\n",
        "Let's implement [VGG19](https://arxiv.org/pdf/1409.1556.pdf) and\n",
        "and [ResNet](https://arxiv.org/pdf/1512.03385.pdf) on the CIFAR10 dataset for image classification and also compare their performance with a simple n-layer feedforward neural network (as you must have done in the last assignment. However, we will do so under two experimental settings.\n",
        "\n",
        "**Dataset**\n",
        "\n",
        "We will again use the CIFAR-10 dataset. This dataset consists of 60,000 RGB images of size 32x32. The images belong to objects of 10 classes such as frogs, horses, ships, trucks etc. The dataset is divided into 50,000 training images and 10,000 testing images. Among the training images, we used 49,000 images for training and 1000 images for validation. <img src='https://rishabhjain.xyz/ml-class-project/public/images/cifar-10.png' type='image'>\n",
        "\n",
        "**Experimental Settings**\n",
        "\n",
        "* **Supervised Learning**: Since we have labels for all images, we will use supervised learning to solve this task. Here, we will use all 49,000 training samples with their labels for supervised learning.\n",
        "\n",
        "* **Semi-supervised Learning**: It comes handy when we have a dataset that is partially labelled or we want to use a pool of unlabeled data for training. To simulate this setting, we will split the CIFAR-10 training data into 2 parts, 5,000 images which have labels and the rest 44,000 images which are treated as unlabeled images. We shall use <i>self-training</i> as a wrapper on supervised learning technique for semi-supervised learning.\n",
        "\n",
        "\n",
        "**What is Self Training?**\n",
        "\n",
        "Self-Training is a technique which can be applied to any supervised learning algorithm to train it in a semi-supervised fashion. The algorithm first uses the labeled data to train the model. After training it for few iterations, some part of unlabled data is labeled using the trained model and is added to the set of labeled training data for the next iteration."
      ],
      "metadata": {
        "id": "GOUs3Eg2e8gX"
      }
    },
    {
      "cell_type": "markdown",
      "source": [
        "##Implementation Details\n",
        "\n",
        "**Libraries**\n",
        "\n",
        "This time we give you freedom to choose between [Pytorch](https://pytorch.org/tutorials/beginner/blitz/cifar10_tutorial.html) and [Tensorflow](https://www.tensorflow.org/tutorials/images/cnn). Go through these links to get acquainted yourself with the frameworks and decide on your choice. Make sure you follow more or less the same format while coding in either of the two deep learning libraries.\n",
        "\n",
        "**Data Augmentation**\n",
        "\n",
        "It is the process of preprocessing the data before feeding it to the model. It increases the diversity of the data which allows the model to generalize well and results in higher accuracy. We will primarily do the following three types of modification on the dataset.\n",
        "\n",
        "* Random Crop: Add sufficient padding to the original image and then randomly crop to create a new image.\n",
        "* Random Horizontal Flip: The original image is randomly flipped horizontally to produce new image.\n",
        "* Resizing the Original Image: The original image will be resized to a different shape. Some deep neural networks require the image to be of sufficient size due to multiple down-sampling layers in the architecture.\n",
        "\n",
        "**Hyperparameter Optimization**\n",
        "\n",
        "The accuracy of any particular model depends on the careful selection of the optimizer and the parameters that optimizer depends on, such as learning rate, momentum for Stochastic Gradient Descent, weight decays, and batch size.\n",
        "\n",
        "To find the optimum value of these hyperparameters, vary these hyperparameters over a certain range and track the accuracy of the model on the validation dataset.\n",
        "\n",
        "For instance, the following figure shows the performance of a sample ResNet model with different learning rates for Adam optimizer. We can clearly see that model performs best at the learning rate of 0.001. Other learning rates are either too small or too large for the model to converge.\n",
        "\n",
        "<img src='https://rishabhjain.xyz/ml-class-project/public/images/supervised_model_performance/learningRateTuning.svg' type='image'>\n"
      ],
      "metadata": {
        "id": "TuQrYsy8gIaC"
      }
    },
    {
      "cell_type": "markdown",
      "source": [
        "## Deliverables\n",
        "\n",
        "* Perform image classifcation over CIFAR10 dataset using VGG19, ResNet18, and an n-layer MLP. Compare their performances by reporting the confusion matrices.\n",
        "\n",
        "* Compare the model performance under the two settings (described above) and report your observations. Note: Do include the optimum values for the hyperparameters and show the plots (as above) justifying your choice.\n",
        "\n",
        "* Include the training plots (Train loss vs Epochs) for each of the trained models."
      ],
      "metadata": {
        "id": "5Kq_bAYHl5-E"
      }
    },
    {
      "cell_type": "code",
      "source": [
        "import torch\n",
        "import torchvision\n",
        "import torchvision.transforms as transforms\n",
        "import numpy as np\n",
        "import cv2\n",
        "import torch.nn as nn\n",
        "import torch.nn.functional as F\n",
        "import math\n"
      ],
      "metadata": {
        "id": "xtcGGAvgzP1-"
      },
      "execution_count": null,
      "outputs": []
    },
    {
      "cell_type": "code",
      "source": [
        "class MLP(nn.Module):\n",
        "  def __init__(self):\n",
        "    super(MLP,self).__init__()\n",
        "    self.lin1 = nn.Linear(64 * 64 * 3, 128)\n",
        "    self.lin2 = nn.Linear(128, 256)\n",
        "    self.lin3 = nn.Linear(256, 512)\n",
        "    self.lin4 = nn.Linear(512, 256)\n",
        "    self.lin5 = nn.Linear(256, 128)\n",
        "    self.lin6 = nn.Linear(128, 64)\n",
        "    self.lin7 = nn.Linear(64, 10)\n",
        "\n",
        "\n",
        "  def forward(self, x):\n",
        "    x = torch.flatten(x, 1)\n",
        "    x = F.relu(self.lin1(x))\n",
        "    x = F.relu(self.lin2(x))\n",
        "    x = F.relu(self.lin3(x))\n",
        "    x = F.relu(self.lin4(x))\n",
        "    x = F.relu(self.lin5(x))\n",
        "    x = F.relu(self.lin6(x))\n",
        "    x = self.lin7(x)\n",
        "    return x\n"
      ],
      "metadata": {
        "id": "dSH7yryaykJm"
      },
      "execution_count": null,
      "outputs": []
    },
    {
      "cell_type": "code",
      "source": [
        "transform_train = transforms.Compose(\n",
        "    [transforms.RandomHorizontalFlip(),\n",
        "     transforms.RandomCrop(size=32, padding=4),\n",
        "     transforms.Resize((64,64)),\n",
        "     transforms.ToTensor(),\n",
        "     transforms.Normalize((0.5, 0.5, 0.5), (0.5, 0.5, 0.5))])\n",
        "transform_test = transforms.Compose(\n",
        "    [transforms.ToTensor(),\n",
        "     transforms.Resize((64,64)),\n",
        "     transforms.Normalize((0.5, 0.5, 0.5), (0.5, 0.5, 0.5))])\n",
        "\n",
        "batch_size = 16\n",
        "\n",
        "trainset = torchvision.datasets.CIFAR10(root='./data', train=True,\n",
        "                                        download=True, transform=transform_train)\n",
        "trainloader = torch.utils.data.DataLoader(trainset, batch_size=batch_size,\n",
        "                                          shuffle=True)\n",
        "\n",
        "testset = torchvision.datasets.CIFAR10(root='./data', train=False,\n",
        "                                       download=True, transform=transform_test)\n",
        "testloader = torch.utils.data.DataLoader(testset, batch_size=batch_size,\n",
        "                                         shuffle=False)\n",
        "\n",
        "classes = ('plane', 'car', 'bird', 'cat',\n",
        "           'deer', 'dog', 'frog', 'horse', 'ship', 'truck')\n",
        "\n",
        "print(len(trainloader))\n",
        "print(len(testloader))"
      ],
      "metadata": {
        "colab": {
          "base_uri": "https://localhost:8080/"
        },
        "id": "qf5l5MDSzLck",
        "outputId": "b4026bee-5c29-48a6-c3a2-5471c4d12a29"
      },
      "execution_count": null,
      "outputs": [
        {
          "output_type": "stream",
          "name": "stdout",
          "text": [
            "Files already downloaded and verified\n",
            "Files already downloaded and verified\n",
            "3125\n",
            "625\n"
          ]
        }
      ]
    },
    {
      "cell_type": "code",
      "source": [
        "device = 'cuda' if torch.cuda.is_available() else 'cpu'\n",
        "net = MLP().to(device)\n",
        "print(net)"
      ],
      "metadata": {
        "colab": {
          "base_uri": "https://localhost:8080/"
        },
        "id": "H_ruyu8dzi29",
        "outputId": "e4d30d1a-6d3c-491d-94cf-a995044a280b"
      },
      "execution_count": null,
      "outputs": [
        {
          "output_type": "stream",
          "name": "stdout",
          "text": [
            "MLP(\n",
            "  (lin1): Linear(in_features=12288, out_features=128, bias=True)\n",
            "  (lin2): Linear(in_features=128, out_features=256, bias=True)\n",
            "  (lin3): Linear(in_features=256, out_features=512, bias=True)\n",
            "  (lin4): Linear(in_features=512, out_features=256, bias=True)\n",
            "  (lin5): Linear(in_features=256, out_features=128, bias=True)\n",
            "  (lin6): Linear(in_features=128, out_features=64, bias=True)\n",
            "  (lin7): Linear(in_features=64, out_features=10, bias=True)\n",
            ")\n"
          ]
        }
      ]
    },
    {
      "cell_type": "code",
      "source": [
        "import torch.optim as optim\n",
        "\n",
        "criterion = nn.CrossEntropyLoss()\n",
        "optimizer = optim.SGD(net.parameters(), lr=0.001, momentum=0.9)"
      ],
      "metadata": {
        "id": "bIlH7_GOz0OO"
      },
      "execution_count": null,
      "outputs": []
    },
    {
      "cell_type": "code",
      "source": [
        "from tqdm import tqdm\n",
        "epoch_losses = [] # using this to record the training loss so that we can plot it against the epoch\n",
        "net.train()\n",
        "for epoch in range(10):\n",
        "    print(\"Epoch:\", epoch)\n",
        "    print(\"-\"*100)\n",
        "    running_loss = 0.0\n",
        "    saved_loss = 0.0\n",
        "    for images,labels in tqdm(trainloader):\n",
        "        # get inputs and labels and convert to appropriate device\n",
        "        inputs, labels = images,labels\n",
        "        inputs, labels = inputs.to(device), labels.to(device)\n",
        "\n",
        "        # zero the parameter gradients\n",
        "        optimizer.zero_grad()\n",
        "        outputs = net(inputs)\n",
        "        loss = criterion(outputs, labels)\n",
        "        loss.backward()\n",
        "        optimizer.step()\n",
        "\n",
        "        # print stats\n",
        "        running_loss += loss.item()\n",
        "    #if i % 2000 == 1999:  # print every 2000 mini-batches\n",
        "    print('loss: %.3f' %(running_loss/len(trainloader)))\n",
        "    saved_loss = running_loss\n",
        "    epoch_losses.append(saved_loss)\n",
        "print('Training done!')"
      ],
      "metadata": {
        "colab": {
          "base_uri": "https://localhost:8080/"
        },
        "id": "c9SuNflgz7vU",
        "outputId": "de6e18d9-7a02-4e40-d6b2-3c5e65956547"
      },
      "execution_count": null,
      "outputs": [
        {
          "output_type": "stream",
          "name": "stdout",
          "text": [
            "Epoch: 0\n",
            "----------------------------------------------------------------------------------------------------\n"
          ]
        },
        {
          "output_type": "stream",
          "name": "stderr",
          "text": [
            "100%|██████████| 3125/3125 [00:46<00:00, 67.15it/s]\n"
          ]
        },
        {
          "output_type": "stream",
          "name": "stdout",
          "text": [
            "loss: 2.252\n",
            "Epoch: 1\n",
            "----------------------------------------------------------------------------------------------------\n"
          ]
        },
        {
          "output_type": "stream",
          "name": "stderr",
          "text": [
            "100%|██████████| 3125/3125 [00:45<00:00, 68.64it/s]\n"
          ]
        },
        {
          "output_type": "stream",
          "name": "stdout",
          "text": [
            "loss: 1.978\n",
            "Epoch: 2\n",
            "----------------------------------------------------------------------------------------------------\n"
          ]
        },
        {
          "output_type": "stream",
          "name": "stderr",
          "text": [
            "100%|██████████| 3125/3125 [00:45<00:00, 68.45it/s]\n"
          ]
        },
        {
          "output_type": "stream",
          "name": "stdout",
          "text": [
            "loss: 1.833\n",
            "Epoch: 3\n",
            "----------------------------------------------------------------------------------------------------\n"
          ]
        },
        {
          "output_type": "stream",
          "name": "stderr",
          "text": [
            "100%|██████████| 3125/3125 [00:45<00:00, 68.00it/s]\n"
          ]
        },
        {
          "output_type": "stream",
          "name": "stdout",
          "text": [
            "loss: 1.729\n",
            "Epoch: 4\n",
            "----------------------------------------------------------------------------------------------------\n"
          ]
        },
        {
          "output_type": "stream",
          "name": "stderr",
          "text": [
            "100%|██████████| 3125/3125 [00:46<00:00, 67.91it/s]\n"
          ]
        },
        {
          "output_type": "stream",
          "name": "stdout",
          "text": [
            "loss: 1.661\n",
            "Epoch: 5\n",
            "----------------------------------------------------------------------------------------------------\n"
          ]
        },
        {
          "output_type": "stream",
          "name": "stderr",
          "text": [
            "100%|██████████| 3125/3125 [00:46<00:00, 67.87it/s]\n"
          ]
        },
        {
          "output_type": "stream",
          "name": "stdout",
          "text": [
            "loss: 1.607\n",
            "Epoch: 6\n",
            "----------------------------------------------------------------------------------------------------\n"
          ]
        },
        {
          "output_type": "stream",
          "name": "stderr",
          "text": [
            "100%|██████████| 3125/3125 [00:46<00:00, 67.70it/s]\n"
          ]
        },
        {
          "output_type": "stream",
          "name": "stdout",
          "text": [
            "loss: 1.561\n",
            "Epoch: 7\n",
            "----------------------------------------------------------------------------------------------------\n"
          ]
        },
        {
          "output_type": "stream",
          "name": "stderr",
          "text": [
            "100%|██████████| 3125/3125 [00:45<00:00, 67.95it/s]\n"
          ]
        },
        {
          "output_type": "stream",
          "name": "stdout",
          "text": [
            "loss: 1.529\n",
            "Epoch: 8\n",
            "----------------------------------------------------------------------------------------------------\n"
          ]
        },
        {
          "output_type": "stream",
          "name": "stderr",
          "text": [
            "100%|██████████| 3125/3125 [00:45<00:00, 68.22it/s]\n"
          ]
        },
        {
          "output_type": "stream",
          "name": "stdout",
          "text": [
            "loss: 1.505\n",
            "Epoch: 9\n",
            "----------------------------------------------------------------------------------------------------\n"
          ]
        },
        {
          "output_type": "stream",
          "name": "stderr",
          "text": [
            "100%|██████████| 3125/3125 [00:46<00:00, 67.65it/s]"
          ]
        },
        {
          "output_type": "stream",
          "name": "stdout",
          "text": [
            "loss: 1.478\n",
            "Training done!\n"
          ]
        },
        {
          "output_type": "stream",
          "name": "stderr",
          "text": [
            "\n"
          ]
        }
      ]
    },
    {
      "cell_type": "code",
      "source": [
        "\n",
        "net.eval()\n",
        "#test_loss = []\n",
        "correct = 0\n",
        "total = 0\n",
        "running_loss = 0.0\n",
        "for images,labels in tqdm(testloader):\n",
        "        # get inputs and labels and convert to appropriate device\n",
        "        inputs, labels =  images.to(device),labels.to(device)\n",
        "\n",
        "        # zero the parameter gradients\n",
        "        # optimizer.zero_grad()\n",
        "        outputs = net(inputs)\n",
        "        loss = criterion(outputs, labels)\n",
        "        # loss.backward()\n",
        "        # optimizer.step()\n",
        "\n",
        "        # print stats\n",
        "        running_loss += loss.item()\n",
        "        _, predicted = torch.max(outputs.data, 1)\n",
        "        total += labels.size(0)\n",
        "        correct += (predicted == labels).sum().item()\n",
        "\n",
        "    #if i % 2000 == 1999:  # print every 2000 mini-batches\n",
        "print('loss: %.3f' %(running_loss/len(testloader)))\n",
        "print('test done!')\n",
        "print(f'Accuracy of the network on the 10000 test images: {100 * correct // total} %')"
      ],
      "metadata": {
        "colab": {
          "base_uri": "https://localhost:8080/"
        },
        "id": "NX_8oJFv1WTK",
        "outputId": "9367d209-5892-49de-a185-271402a133ec"
      },
      "execution_count": null,
      "outputs": [
        {
          "output_type": "stream",
          "name": "stderr",
          "text": [
            "100%|██████████| 625/625 [00:06<00:00, 95.57it/s]"
          ]
        },
        {
          "output_type": "stream",
          "name": "stdout",
          "text": [
            "loss: 1.433\n",
            "test done!\n",
            "Accuracy of the network on the 10000 test images: 48 %\n"
          ]
        },
        {
          "output_type": "stream",
          "name": "stderr",
          "text": [
            "\n"
          ]
        }
      ]
    },
    {
      "cell_type": "code",
      "source": [
        "import matplotlib.pyplot as plt\n",
        "import numpy as np\n",
        "epochs = range(1,11)\n",
        "plt.plot(epochs, epoch_losses, 'g', label='Training loss')\n",
        "plt.title('Trainingloss')\n",
        "plt.xlabel('Epochs')\n",
        "plt.ylabel('Loss')\n",
        "plt.legend()\n",
        "plt.show()"
      ],
      "metadata": {
        "colab": {
          "base_uri": "https://localhost:8080/",
          "height": 295
        },
        "id": "c-w_pTgW1XFo",
        "outputId": "fa1c09b0-20a3-42a9-d288-bdf849285c49"
      },
      "execution_count": null,
      "outputs": [
        {
          "output_type": "display_data",
          "data": {
            "text/plain": [
              "<Figure size 432x288 with 1 Axes>"
            ],
            "image/png": "[encoded data removed]"
          },
          "metadata": {
            "needs_background": "light"
          }
        }
      ]
    },
    {
      "cell_type": "code",
      "source": [
        "from tqdm import tqdm\n",
        "epoch_losses = [] # using this to record the training loss so that we can plot it against the epoch\n",
        "net.train()\n",
        "for epoch in range(10):\n",
        "    print(\"Epoch:\", epoch)\n",
        "    print(\"-\"*100)\n",
        "    running_loss = 0.0\n",
        "    saved_loss = 0.0\n",
        "\n",
        "    for images,labels in tqdm(trainloader):\n",
        "        # get inputs and labels and convert to appropriate device\n",
        "        inputs, labels = images,labels\n",
        "        inputs, labels = inputs.to(device), labels.to(device)\n",
        "\n",
        "        # zero the parameter gradients\n",
        "        optimizer.zero_grad()\n",
        "        outputs = net(inputs)\n",
        "        loss = criterion(outputs, labels)\n",
        "        loss.backward()\n",
        "        optimizer.step()\n",
        "\n",
        "        # print stats\n",
        "        running_loss += loss.item()\n",
        "    #if i % 2000 == 1999:  # print every 2000 mini-batches\n",
        "    print('loss: %.3f' %(running_loss/len(trainloader)))\n",
        "    saved_loss = running_loss\n",
        "    epoch_losses.append(saved_loss)\n",
        "print('Training done!')"
      ],
      "metadata": {
        "id": "H7R_XGa-XJTv"
      },
      "execution_count": null,
      "outputs": []
    }
  ]
}