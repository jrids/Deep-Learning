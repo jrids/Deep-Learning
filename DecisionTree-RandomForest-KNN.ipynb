{
  "nbformat": 4,
  "nbformat_minor": 0,
  "metadata": {
    "colab": {
      "provenance": [],
      "collapsed_sections": [
        "6kXR5daPpCGg",
        "4STgTUZt2AxW",
        "Dke5obvw7bgJ",
        "q8c0lHVi9AnL",
        "pCTZE7CKEADr",
        "s94RN__12zM_",
        "X4jCax4b2KMm",
        "wgzSb9XrxxXP",
        "7vaTLIfRx6PA"
      ]
    },
    "kernelspec": {
      "name": "python3",
      "display_name": "Python 3"
    },
    "language_info": {
      "name": "python"
    }
  },
  "cells": [
    {
      "cell_type": "markdown",
      "source": [],
      "metadata": {
        "id": "titEsYAWBx9d"
      }
    },
    {
      "cell_type": "markdown",
      "source": [
        "## Importing libraries for all the tasks"
      ],
      "metadata": {
        "id": "6kXR5daPpCGg"
      }
    },
    {
      "cell_type": "code",
      "source": [
        "from sklearn.datasets import fetch_openml\n",
        "from sklearn.model_selection import train_test_split\n",
        "from sklearn.metrics import confusion_matrix\n",
        "import matplotlib.pyplot as plt\n",
        "import pandas as pd\n",
        "import seaborn as sn\n",
        "import numpy  as np"
      ],
      "metadata": {
        "id": "uo9GiEQWpBPj"
      },
      "execution_count": null,
      "outputs": []
    },
    {
      "cell_type": "markdown",
      "source": [
        "## Task 1: Decision Tree & Random Forest"
      ],
      "metadata": {
        "id": "4STgTUZt2AxW"
      }
    },
    {
      "cell_type": "markdown",
      "source": [
        "#### MNIST dataset\n",
        "\n",
        "The datasets module in keras provide a few toy datasets (already-vectorized, in Numpy format) that can be used for debugging a model or creating simple code examples.\n",
        "\n",
        "Here, we use `keras.datasets` to import `mnist.`\n",
        "\n",
        "Explore other datasets provided by this keras module.\n",
        "\n",
        "Other libraries, such as, sklearn, pytorch, tensorflow (keras is now integrated as a submodule of tensorflow itself, tf.keras), also provide famous datasets for fast loading and testing."
      ],
      "metadata": {
        "id": "Dke5obvw7bgJ"
      }
    },
    {
      "cell_type": "code",
      "source": [
        "from keras.datasets import mnist\n",
        "import matplotlib.pyplot as plt\n",
        "import numpy as np\n",
        "\n",
        "\n",
        "(x_train, y_train), (x_test, y_test) = mnist.load_data()\n"
      ],
      "metadata": {
        "id": "VAmRBm0v2EDU",
        "colab": {
          "base_uri": "https://localhost:8080/"
        },
        "outputId": "20321ccf-661c-41ab-8e8f-cd59c33fcedb"
      },
      "execution_count": null,
      "outputs": [
        {
          "output_type": "stream",
          "name": "stdout",
          "text": [
            "Downloading data from https://storage.googleapis.com/tensorflow/tf-keras-datasets/mnist.npz\n",
            "11493376/11490434 [==============================] - 0s 0us/step\n",
            "11501568/11490434 [==============================] - 0s 0us/step\n"
          ]
        }
      ]
    },
    {
      "cell_type": "code",
      "source": [
        "# Following few lines are given here to give you headstart for analyzing the loaded mnist dataset\n",
        "# Run them multiple times and make your observations\n",
        "\n",
        "num= np.random.randint(0, x_train.shape[0])\n",
        "plt.imshow(x_train[num],cmap='gray')\n",
        "plt.axis('off')\n",
        "print('The ground truth for the image at index {} is : {}'.format(num,y_train[num]))\n",
        "print('Total number of examples for digit {} in training set are: {}'.format(y_train[num], (y_train==y_train[num]).sum()))"
      ],
      "metadata": {
        "id": "yh06eNnh_DUo",
        "outputId": "6abb0f2d-70e5-4f83-f0a3-bd9720490cdd",
        "colab": {
          "base_uri": "https://localhost:8080/",
          "height": 283
        }
      },
      "execution_count": null,
      "outputs": [
        {
          "output_type": "stream",
          "name": "stdout",
          "text": [
            "The ground truth for the image at index 4616 is : 4\n",
            "Total number of examples for digit 4 in training set are: 5842\n"
          ]
        },
        {
          "output_type": "display_data",
          "data": {
            "image/png": "[encoded data removed]",
            "text/plain": [
              "<Figure size 432x288 with 1 Axes>"
            ]
          },
          "metadata": {
            "needs_background": "light"
          }
        }
      ]
    },
    {
      "cell_type": "markdown",
      "source": [
        "`The mnist function loads the datset from keras.datsets. This dataset consists of handwritten single digits from 0 to 9.`\n",
        "\n",
        "`The np.random.randint generates a random integer in the range of 0 to the number of images present in the dataset.`\n",
        "\n",
        "`The ground truth refers to the actual classification of the image to the digit. Every time the above code is run, it outputs an image from the dataset, gives its ground truth and the number of images present in the dataset for that digit.`"
      ],
      "metadata": {
        "id": "sVyr9HchB6W4"
      }
    },
    {
      "cell_type": "markdown",
      "source": [
        "#### Ques. 2(a) Dataset Analysis\n",
        "\n",
        "Describe briefly about mnist dataset and the data stored in *x_train, y_train, x_test, y_test*. What does train set and test set signify?\n",
        "\n",
        "Make a bar plot showing the distribution of digits classes vs number of examples included in mnist dataset for both training set and testing set."
      ],
      "metadata": {
        "id": "q8c0lHVi9AnL"
      }
    },
    {
      "cell_type": "code",
      "source": [
        "## Write code here.\n",
        "x_train = x_train.reshape((x_train.shape[0], 28*28)).astype('float32')\n",
        "x_test = x_test.reshape((x_test.shape[0], 28*28)).astype('float32')"
      ],
      "metadata": {
        "id": "KprD4kFHC4HD"
      },
      "execution_count": null,
      "outputs": []
    },
    {
      "cell_type": "code",
      "source": [
        "train_samples = []\n",
        "test_samples = []\n",
        "classes = np.unique(y_train)\n",
        "for j in classes:\n",
        "  train_samples.append(len(x_train[y_train == j]))\n",
        "  test_samples.append(len(x_test[y_test == j]))\n",
        "plt.bar(classes, train_samples)\n",
        "plt.title(\"Distribution of the training dataset\")\n",
        "plt.xlabel(\"Digits Class\")\n",
        "plt.ylabel(\"Number of examples\")\n",
        "plt.show()\n",
        "plt.bar(classes, test_samples)\n",
        "plt.title(\"Distribution of the test dataset\")\n",
        "plt.xlabel(\"Digits Class\")\n",
        "plt.ylabel(\"Number of examples\")\n",
        "plt.show()"
      ],
      "metadata": {
        "id": "Cp4RQaMp9sz6",
        "outputId": "1c86d276-63bf-41de-9761-6b4031b00d8a",
        "colab": {
          "base_uri": "https://localhost:8080/",
          "height": 573
        }
      },
      "execution_count": null,
      "outputs": [
        {
          "output_type": "display_data",
          "data": {
            "image/png": "[encoded data removed]",
            "text/plain": [
              "<Figure size 432x288 with 1 Axes>"
            ]
          },
          "metadata": {
            "needs_background": "light"
          }
        },
        {
          "output_type": "display_data",
          "data": {
            "image/png": "[encoded data removed]",
            "text/plain": [
              "<Figure size 432x288 with 1 Axes>"
            ]
          },
          "metadata": {
            "needs_background": "light"
          }
        }
      ]
    },
    {
      "cell_type": "markdown",
      "source": [
        "**Write your analysis of dataset in this markdown**\n",
        "\n",
        "`The mnist function loads the datset from keras.datsets. This dataset consists of handwritten single digits from 0 to 9. `\n",
        "\n",
        "\n",
        "---\n",
        "\n",
        "\n",
        "\n",
        "`The data type of the data is numpy.ndarray i.e. the handwritten digit images are stored in the form tuples. The shape of X is (70000, 28, 28) which has been divided into training and testing data (approximately 85% and 15%): x_train(60000, 28, 28) and x_test(10000, 28, 28). This shape of X means that there are 70000 grayscale images in total, each image of size 28pixels x 28pixels (784 pixels total). There are 10 digits (0 to 9) or classes, the images can be classified to, these labels are in Y (y_train and y_test). `\n",
        "\n",
        "\n",
        "---\n",
        "\n",
        "`Dividing the dataset into training and testing dataset ensures us that the model is trained on a part of data and tested on a completely unknown part of the data. Moreover, it is divided such that all the model is trained according to all the classes and features.`\n",
        "\n",
        "\n",
        "---\n",
        "\n",
        "\n",
        "`As we can see from the plots above, the distribution of samples among the different classes/digits is approximately the same in training and testing dataset.`\n",
        "\n"
      ],
      "metadata": {
        "id": "E_XTOZD1C7Sz"
      }
    },
    {
      "cell_type": "markdown",
      "source": [
        "#### Question 2(b) : **Decision tree** and **Random Forest**\n",
        "\n",
        "Train both classifiers and Report the following for each class in testing and training set:\n",
        "\n",
        "\n",
        "1.   True positive\n",
        "2.   True Negative\n",
        "3.   Accuracy\n",
        "4.   Precision\n",
        "5.   Recall\n",
        "6.   F1 score\n",
        "\n",
        "Finally, Report the following for overall train set and test set in mnist dataset:\n",
        "\n",
        "1.   Accuracy\n",
        "2.   Precision\n",
        "3.   Recall\n",
        "4.   F1 *score*\n",
        "\n",
        "Go through provided class snippet `gen_classifier` and modify as required.\n"
      ],
      "metadata": {
        "id": "pCTZE7CKEADr"
      }
    },
    {
      "cell_type": "code",
      "source": [
        "from sklearn import tree\n",
        "from sklearn.ensemble import RandomForestClassifier\n",
        "class gen_classifier(object):\n",
        "  def __init__(self, x_train, x_test, y_train, y_test):\n",
        "    self.x_train=x_train\n",
        "    self.x_test=x_test\n",
        "    self.y_train=y_train\n",
        "    self.y_test=y_test\n",
        "    self.seed = 1000 # For reproducibility\n",
        "    self.unique_classes= np.unique(y_train)\n",
        "\n",
        "  def fit_decision_tree_classifier(self):\n",
        "    #####\n",
        "    # Add code here to train/fit decision tree on mnist\n",
        "    clf_dt = tree.DecisionTreeClassifier()\n",
        "    clf_dt = clf_dt.fit(self.x_train, self.y_train)\n",
        "    return clf_dt\n",
        "\n",
        "  def fit_random_forest_classifier(self):\n",
        "    #####\n",
        "    # Add code here to train/fit random forest on mnist\n",
        "    clf_rf=RandomForestClassifier()\n",
        "    clf_rf = clf_rf.fit(self.x_train, self.y_train)\n",
        "    return clf_rf\n",
        "\n",
        "  def clf_predict(self,trained_clf=None):\n",
        "    ### Use your trained classifier to make predictions\n",
        "    ### Replace following hard coded lines with your code\n",
        "    y_pred_train = trained_clf.predict(self.x_train)\n",
        "    y_pred_test = trained_clf.predict(self.x_test)\n",
        "    ####\n",
        "    return y_pred_train, y_pred_test, self.y_train, self.y_test\n",
        "\n",
        "  def per_class_metrics(self, y_true, y_pred, classifier_name=None, split=None):\n",
        "    TP=[]\n",
        "    TN=[]\n",
        "    Accuracy=[]\n",
        "    Precision=[]\n",
        "    Recall=[]\n",
        "    F1score=[]\n",
        "    Label=[]\n",
        "\n",
        "    for label in self.unique_classes:\n",
        "      # Write code here that calculates the following for current label and assigns the values in variable named = (tp,tn,acc,prec,recall, f1)\n",
        "      ###################\n",
        "      # Your code here\n",
        "      # For example, hard coded to 0:\n",
        "      tp = 0\n",
        "      tn= 0\n",
        "      fp = 0\n",
        "      fn = 0\n",
        "      for i in range(len(y_true)):\n",
        "          if y_pred[i] == label and y_true[i] == label:\n",
        "              tp = tp+ 1\n",
        "          elif y_pred[i] == label and y_true[i] != label:\n",
        "              fp =fp + 1\n",
        "          elif y_pred[i] != label and y_true[i] == label:\n",
        "              fn =fn + 1\n",
        "          else:\n",
        "              tn = tn+1\n",
        "      acc = (tp+tn)/float(tp+fp+fn+tn)\n",
        "      prec = tp/ float(tp+fp)\n",
        "      rec = tp / float(tp+fn)\n",
        "      f1= (2*prec*rec)/(prec+rec)\n",
        "      ##########################\n",
        "\n",
        "      TP.append(tp)\n",
        "      TN.append(tn)\n",
        "      Accuracy.append(acc)\n",
        "      Precision.append(prec)\n",
        "      Recall.append(rec)\n",
        "      F1score.append(f1)\n",
        "      Label.append(label)\n",
        "\n",
        "    clf_name=classifier_name\n",
        "    text=''\n",
        "    for idx in range(len(Label)):\n",
        "      text += 'For class : {}, Following are the metrics with {} on {} set\\nTrue Positive : {}\\nTrue Negative : {}\\nAccuracy : {}\\nPrecision : {}\\nRecall : {}\\nF1score : {}\\n\\n'.format(Label[idx],clf_name, split ,TP[idx],TN[idx],Accuracy[idx],Precision[idx],Recall[idx],F1score[idx])\n",
        "    print(text)\n",
        "\n",
        "\n",
        "  def overall_metrics(self, y_true, y_pred,classifier_name=None, split=None):\n",
        "    # Write code here that calculates the following and assigns the values in variable named = (tp,tn,acc,prec,recall, f1)\n",
        "    ###################\n",
        "    TP=[]\n",
        "    TN=[]\n",
        "    Accuracy=[]\n",
        "    Precision=[]\n",
        "    Recall=[]\n",
        "    F1score=[]\n",
        "    Label=[]\n",
        "    FP=[]\n",
        "    FN=[]\n",
        "\n",
        "    for label in self.unique_classes:\n",
        "      # Write code here that calculates the following for current label and assigns the values in variable named = (tp,tn,acc,prec,recall, f1)\n",
        "      ###################\n",
        "      # Your code here\n",
        "      # For example, hard coded to 0:\n",
        "      tp = 0\n",
        "      tn= 0\n",
        "      fp = 0\n",
        "      fn = 0\n",
        "      for i in range(len(y_true)):\n",
        "          if y_pred[i] == label and y_true[i] == label:\n",
        "              tp = tp+ 1\n",
        "          elif y_pred[i] == label and y_true[i] != label:\n",
        "              fp =fp + 1\n",
        "          elif y_pred[i] != label and y_true[i] == label:\n",
        "              fn =fn + 1\n",
        "          else:\n",
        "              tn = tn+1\n",
        "      acc = (tp+tn)/float(tp+fp+fn+tn)\n",
        "      prec = tp/ float(tp+fp)\n",
        "      rec = tp / float(tp+fn)\n",
        "      f1= (2*prec*rec)/(prec+rec)\n",
        "      ##########################\n",
        "      FN.append(fn)\n",
        "      FP.append(fp)\n",
        "      TP.append(tp)\n",
        "      TN.append(tn)\n",
        "      Accuracy.append(acc)\n",
        "      Precision.append(prec)\n",
        "      Recall.append(rec)\n",
        "      F1score.append(f1)\n",
        "      Label.append(label)\n",
        "    # Your code here\n",
        "    # For example, hard coded to 0:\n",
        "    tp = np.average(TP)\n",
        "    tn= np.average(TN)\n",
        "    acc = float(sum(y_true==y_pred) / (len(y_true)))\n",
        "    prec = np.average(Precision)\n",
        "    rec = np.average(Recall)\n",
        "    f1= np.average(F1score)\n",
        "    ##########################\n",
        "    clf_name=classifier_name\n",
        "    text = 'Following are the metrics for {} on {} set:\\nTrue Positive : {}\\nTrue Negative : {}\\nAccuracy : {}\\nPrecision : {}\\nRecall : {}\\nF1score : {}\\n\\n'.format(clf_name, split ,tp,tn,acc,prec,rec,f1)\n",
        "    print(text)"
      ],
      "metadata": {
        "id": "cZCSbUKzFo8X"
      },
      "execution_count": null,
      "outputs": []
    },
    {
      "cell_type": "markdown",
      "source": [
        "Use the created class now to report results on loaded mnist dataset.\n",
        "\n",
        "Instantiation of class by `gen_classifier(x_train,x_test,y_train,y_test)`, provided `x_train,x_test,y_train,y_test`, same class can be used to evaluate the learning ability of theses algorithms on other datasets also. Apart from assigned work on MNIST, try experimenting with other datasets for better understanding.\n",
        "\n",
        "\n",
        "A demo of usage is provided below."
      ],
      "metadata": {
        "id": "iaCrkGQm05eu"
      }
    },
    {
      "cell_type": "code",
      "source": [
        "# Instantiate class\n",
        "clf = gen_classifier(x_train,x_test,y_train,y_test)\n",
        "\n",
        "# Use the created methods\n",
        "dtree=clf.fit_decision_tree_classifier()   ## Edit this method to train Decision tree\n",
        "rf = clf.fit_random_forest_classifier()    ## Edit this method to train Random forest\n",
        "\n",
        "# Make predictions by passing desired classifier to clf_predict method. First Edit the method to make predictions.\n",
        "y_pred_train_dt, y_pred_test_dt, y_true_train_dt, y_true_test_dt= clf.clf_predict(trained_clf=dtree)\n",
        "y_pred_train_rf, y_pred_test_rf, y_true_train_rf, y_true_test_rf= clf.clf_predict(trained_clf=rf)\n"
      ],
      "metadata": {
        "id": "6Vet9v5J1BVH"
      },
      "execution_count": null,
      "outputs": []
    },
    {
      "cell_type": "code",
      "source": [
        "# Use following methods to calculate per class metrics. First Edit per_class_metrics and overall_metrics methods of gen_classifier class.\n",
        "clf.per_class_metrics(y_true_test_dt,y_pred_test_dt,classifier_name='Decision Tree', split= 'test')\n",
        "\n",
        "# Use following methods to calculate overall metric\n",
        "clf.overall_metrics(y_true_train_rf,y_pred_train_rf,classifier_name='Random forest', split= 'train')"
      ],
      "metadata": {
        "id": "Z6vE2v7b1Ge-",
        "colab": {
          "base_uri": "https://localhost:8080/"
        },
        "outputId": "f238a415-1728-4b8c-ad9d-99b813ff611a"
      },
      "execution_count": null,
      "outputs": [
        {
          "output_type": "stream",
          "name": "stdout",
          "text": [
            "For class : 0, Following are the metrics with Decision Tree on test set\n",
            "True Positive : 919\n",
            "True Negative : 8940\n",
            "Accuracy : 0.9859\n",
            "Precision : 0.91991991991992\n",
            "Recall : 0.9377551020408164\n",
            "F1score : 0.9287518948964124\n",
            "\n",
            "For class : 1, Following are the metrics with Decision Tree on test set\n",
            "True Positive : 1086\n",
            "True Negative : 8812\n",
            "Accuracy : 0.9898\n",
            "Precision : 0.9534679543459175\n",
            "Recall : 0.9568281938325991\n",
            "F1score : 0.9551451187335093\n",
            "\n",
            "For class : 2, Following are the metrics with Decision Tree on test set\n",
            "True Positive : 881\n",
            "True Negative : 8829\n",
            "Accuracy : 0.971\n",
            "Precision : 0.8637254901960785\n",
            "Recall : 0.8536821705426356\n",
            "F1score : 0.8586744639376218\n",
            "\n",
            "For class : 3, Following are the metrics with Decision Tree on test set\n",
            "True Positive : 854\n",
            "True Negative : 8818\n",
            "Accuracy : 0.9672\n",
            "Precision : 0.8323586744639376\n",
            "Recall : 0.8455445544554455\n",
            "F1score : 0.8388998035363457\n",
            "\n",
            "For class : 4, Following are the metrics with Decision Tree on test set\n",
            "True Positive : 855\n",
            "True Negative : 8890\n",
            "Accuracy : 0.9745\n",
            "Precision : 0.8697863682604272\n",
            "Recall : 0.8706720977596741\n",
            "F1score : 0.8702290076335877\n",
            "\n",
            "For class : 5, Following are the metrics with Decision Tree on test set\n",
            "True Positive : 742\n",
            "True Negative : 8957\n",
            "Accuracy : 0.9699\n",
            "Precision : 0.8309070548712206\n",
            "Recall : 0.8318385650224215\n",
            "F1score : 0.8313725490196078\n",
            "\n",
            "For class : 6, Following are the metrics with Decision Tree on test set\n",
            "True Positive : 855\n",
            "True Negative : 8945\n",
            "Accuracy : 0.98\n",
            "Precision : 0.898109243697479\n",
            "Recall : 0.8924843423799582\n",
            "F1score : 0.8952879581151832\n",
            "\n",
            "For class : 7, Following are the metrics with Decision Tree on test set\n",
            "True Positive : 925\n",
            "True Negative : 8886\n",
            "Accuracy : 0.9811\n",
            "Precision : 0.9149357072205737\n",
            "Recall : 0.8998054474708171\n",
            "F1score : 0.9073075036782736\n",
            "\n",
            "For class : 8, Following are the metrics with Decision Tree on test set\n",
            "True Positive : 785\n",
            "True Negative : 8837\n",
            "Accuracy : 0.9622\n",
            "Precision : 0.8059548254620124\n",
            "Recall : 0.8059548254620124\n",
            "F1score : 0.8059548254620124\n",
            "\n",
            "For class : 9, Following are the metrics with Decision Tree on test set\n",
            "True Positive : 857\n",
            "True Negative : 8845\n",
            "Accuracy : 0.9702\n",
            "Precision : 0.8544366899302094\n",
            "Recall : 0.8493557978196233\n",
            "F1score : 0.8518886679920478\n",
            "\n",
            "\n",
            "Following are the metrics for Random forest on train set:\n",
            "True Positive : 6000.0\n",
            "True Negative : 54000.0\n",
            "Accuracy : 1.0\n",
            "Precision : 1.0\n",
            "Recall : 1.0\n",
            "F1score : 1.0\n",
            "\n",
            "\n"
          ]
        }
      ]
    },
    {
      "cell_type": "markdown",
      "source": [
        "#### Ques. 2(c) : **Confusion matrix**\n",
        "\n",
        "Plot confusion matrix for both the classifiers and provide an explanation on the difference between the two matrices."
      ],
      "metadata": {
        "id": "s94RN__12zM_"
      }
    },
    {
      "cell_type": "code",
      "source": [
        "# Create a plot for confusion matrix for decision tree and random forest.\n",
        "# Write your code here\n",
        "# decision tree\n",
        "cmdt = confusion_matrix(y_true_test_dt,y_pred_test_dt)\n",
        "print(cmdt)\n",
        "dt_cm = pd.DataFrame(cmdt, index = range(10), columns =  range(10))\n",
        "plt.figure(figsize = (10,10))\n",
        "sn.heatmap(dt_cm, annot=True)\n",
        "plt.title('Confusion Matrix for Decision Tree')\n",
        "plt.ylabel('True label')\n",
        "plt.xlabel('Predicted label')\n",
        "plt.show()"
      ],
      "metadata": {
        "id": "vHG1hCSx3NYs",
        "colab": {
          "base_uri": "https://localhost:8080/",
          "height": 795
        },
        "outputId": "356f10b8-d8fe-430d-aa41-04ca464d2701"
      },
      "execution_count": null,
      "outputs": [
        {
          "output_type": "stream",
          "name": "stdout",
          "text": [
            "[[ 919    1    7    6    4   14   10    4    8    7]\n",
            " [   1 1086    9    7    2    5    7    2   13    3]\n",
            " [  10    9  881   32   15   13   13   25   25    9]\n",
            " [   6    6   34  854    8   44    3    7   30   18]\n",
            " [   6    4   13    8  855    8   16   10   19   43]\n",
            " [  14    5    5   41   10  742   19    3   34   19]\n",
            " [  15    4   10    6   18   19  855    1   27    3]\n",
            " [   3   11   26   17    9    8    3  925    7   19]\n",
            " [  12    8   28   38   20   28   20   10  785   25]\n",
            " [  13    5    7   17   42   12    6   24   26  857]]\n"
          ]
        },
        {
          "output_type": "display_data",
          "data": {
            "image/png": "[encoded data removed]",
            "text/plain": [
              "<Figure size 720x720 with 2 Axes>"
            ]
          },
          "metadata": {
            "needs_background": "light"
          }
        }
      ]
    },
    {
      "cell_type": "code",
      "source": [
        "#random forest\n",
        "cmrf = confusion_matrix(y_true_test_rf,y_pred_test_rf)\n",
        "print(cmrf)\n",
        "rf_cm = pd.DataFrame(cmrf, index = range(10), columns =  range(10))\n",
        "plt.figure(figsize = (10,10))\n",
        "sn.heatmap(rf_cm, annot=True)\n",
        "plt.title('Confusion Matrix for Random Forest')\n",
        "plt.ylabel('True label')\n",
        "plt.xlabel('Predicted label')\n",
        "plt.show()"
      ],
      "metadata": {
        "colab": {
          "base_uri": "https://localhost:8080/",
          "height": 795
        },
        "id": "uN2448YJQbeO",
        "outputId": "634b015c-32e9-4852-d31e-5f2302e43766"
      },
      "execution_count": null,
      "outputs": [
        {
          "output_type": "stream",
          "name": "stdout",
          "text": [
            "[[ 971    1    0    0    0    2    2    1    3    0]\n",
            " [   0 1121    2    5    0    2    3    1    1    0]\n",
            " [   6    0 1001    5    2    0    3    8    6    1]\n",
            " [   0    0    9  971    0   10    0    8    9    3]\n",
            " [   0    0    1    0  954    0    4    1    3   19]\n",
            " [   3    0    3   14    2  856    4    2    6    2]\n",
            " [   7    3    1    0    5    5  933    0    4    0]\n",
            " [   1    4   19    2    1    0    0  988    2   11]\n",
            " [   4    0    5    7    4    8    2    4  931    9]\n",
            " [   7    5    1   11   11    3    1    4    7  959]]\n"
          ]
        },
        {
          "output_type": "display_data",
          "data": {
            "image/png": "[encoded data removed]",
            "text/plain": [
              "<Figure size 720x720 with 2 Axes>"
            ]
          },
          "metadata": {
            "needs_background": "light"
          }
        }
      ]
    },
    {
      "cell_type": "markdown",
      "source": [
        "**Write comparative analysis between the obtained confusion matrices in this mark down**\n",
        "\n",
        "`It can be analysed from both the heat maps that the accuracy of Random Forest is much better than that of decision tree model. This can be seen from the number of samples having \"predicted label\" not equal to \"true label\" which is clearly bigger in case of decision tree confusion matrix. Also, the number of samples being predicted the same as their true label is greater in random forest model. The reason for this can be because random forest prevents overfitting and gives output on combining a group of decision trees.`\n",
        "\n"
      ],
      "metadata": {
        "id": "qocnPQYP3Un0"
      }
    },
    {
      "cell_type": "markdown",
      "source": [
        "## Task 2: ScratchWorld"
      ],
      "metadata": {
        "id": "qLSD2bol2Etf"
      }
    },
    {
      "cell_type": "markdown",
      "source": [
        "<font size=\"3\"> Welcome to **ScratchWorld** where in order to survive you have to write codes from scratch. Luxuries like pytorch, tensorflow, some part of sklearn does not exsist in this world. Your task is to help our friend Saitama to reach top rank in S class of hero association by solving certain problem that association has sent him for intelligence test. Hero association have one strict rule \"**write some part of the code from scratch**\". Help Saitama by solving following task, where he has to **implement K-Nearest Neighbour algorithm from scratc**h. <br/>\n",
        "Story to be continued, going to be more fun in future....\n",
        "</font>\n",
        "* One punch man [[Link](https://onepunchman.fandom.com/wiki/One-Punch_Man_Wiki)]"
      ],
      "metadata": {
        "id": "QlaBnEtpzPdW"
      }
    },
    {
      "cell_type": "markdown",
      "source": [
        "### KNN (K-Nearest Neighbor) [Link: [1](https://www.wikiwand.com/en/K-nearest_neighbors_algorithm), [2](https://www.javatpoint.com/k-nearest-neighbor-algorithm-for-machine-learning), [3](https://www.analyticsvidhya.com/blog/2018/03/introduction-k-neighbours-algorithm-clustering/)]"
      ],
      "metadata": {
        "id": "X4jCax4b2KMm"
      }
    },
    {
      "cell_type": "markdown",
      "source": [
        "##### Loading dataset"
      ],
      "metadata": {
        "id": "wgzSb9XrxxXP"
      }
    },
    {
      "cell_type": "code",
      "source": [
        "mnist = None"
      ],
      "metadata": {
        "id": "FRfHq-vg2JBY"
      },
      "execution_count": null,
      "outputs": []
    },
    {
      "cell_type": "code",
      "source": [
        "# Prevent data from reloading, takes 3-4 minutes for downloading the dataset\n",
        "if mnist is None:\n",
        "    _      = 1000\n",
        "    mnist  = fetch_openml('mnist_784')\n",
        "    digits = mnist.data # Digitis: (70000, 784)\n",
        "    labels = mnist.target # Labels: (70000,)\n",
        "    digits = digits[:_].to_numpy() # For assignment purpose we are considering only first 1000 data\n",
        "    labels = labels[:_].to_numpy() # For assignment purpose we are considering only first 1000 data"
      ],
      "metadata": {
        "id": "6c5rqDpUx1Fo"
      },
      "execution_count": null,
      "outputs": []
    },
    {
      "cell_type": "markdown",
      "source": [
        "##### Code"
      ],
      "metadata": {
        "id": "7vaTLIfRx6PA"
      }
    },
    {
      "cell_type": "code",
      "source": [
        "# Train (80%) - Test (20%) Split\n",
        "# You can use sklearn train_test_split method, set random_state=45,\n",
        "# must set stratify to labels for balance data split\n",
        "\n",
        "# Write your code below this\n",
        "X_train, X_test, Y_train, Y_test = train_test_split(digits, labels, test_size=0.2, random_state=45, stratify=labels)"
      ],
      "metadata": {
        "id": "NinhIDG8x3nG"
      },
      "execution_count": null,
      "outputs": []
    },
    {
      "cell_type": "code",
      "source": [
        "Y_test.shape"
      ],
      "metadata": {
        "colab": {
          "base_uri": "https://localhost:8080/"
        },
        "id": "cnHXpB1phRAH",
        "outputId": "798f6370-f065-45b0-f598-547a43b4907b"
      },
      "execution_count": null,
      "outputs": [
        {
          "output_type": "execute_result",
          "data": {
            "text/plain": [
              "(200,)"
            ]
          },
          "metadata": {},
          "execution_count": 40
        }
      ]
    },
    {
      "cell_type": "code",
      "source": [
        "# Function that implement k-NN algorithm\n",
        "from scipy.stats import mode\n",
        "from sklearn.metrics import accuracy_score\n",
        "\n",
        "#Euclidean Distance\n",
        "def eucledian(p1,p2):\n",
        "    dist = np.sqrt(np.sum((p1-p2)**2))\n",
        "    return dist\n",
        "\n",
        "def algo_knn(x_test, x_train, y_train, k=3):\n",
        "    # Write the code below this\n",
        "    labels = []\n",
        "    for i in x_test:\n",
        "      distances = []\n",
        "      for j in range(len(x_train)):\n",
        "        dist = eucledian(np.array(x_train[j,:]),i)\n",
        "        distances.append(dist)\n",
        "      distances = np.argsort(np.array(distances))[:k]\n",
        "      x = y_train[distances]\n",
        "      max = mode(x)\n",
        "      max = max.mode[0]\n",
        "      labels.append(max)\n",
        "\n",
        "    return labels\n",
        "    pass"
      ],
      "metadata": {
        "id": "5DBLbWhKx8ku"
      },
      "execution_count": null,
      "outputs": []
    },
    {
      "cell_type": "code",
      "source": [
        "# main method\n",
        "Y_hat = algo_knn(X_test, X_train, Y_train, k=3)\n",
        "accuracy_score(Y_test, Y_hat)"
      ],
      "metadata": {
        "id": "A0gPSF0pyJgK",
        "colab": {
          "base_uri": "https://localhost:8080/"
        },
        "outputId": "b988a0aa-84e0-46ba-f8e4-f2734e72756a"
      },
      "execution_count": null,
      "outputs": [
        {
          "output_type": "execute_result",
          "data": {
            "text/plain": [
              "0.885"
            ]
          },
          "metadata": {},
          "execution_count": 33
        }
      ]
    },
    {
      "cell_type": "code",
      "source": [
        "from sklearn.neighbors import KNeighborsClassifier\n",
        "knn= KNeighborsClassifier(n_neighbors=3)\n",
        "knn.fit(X_train,Y_train)\n",
        "y_pred= knn.predict(X_test)\n",
        "accuracy_score(Y_test, y_pred)"
      ],
      "metadata": {
        "colab": {
          "base_uri": "https://localhost:8080/"
        },
        "id": "u6y4969ZeR26",
        "outputId": "9b4def52-980c-4f00-fab6-cc1f15aaf00f"
      },
      "execution_count": null,
      "outputs": [
        {
          "output_type": "execute_result",
          "data": {
            "text/plain": [
              "0.885"
            ]
          },
          "metadata": {},
          "execution_count": 34
        }
      ]
    },
    {
      "cell_type": "code",
      "source": [
        "# Metrics calculation\n",
        "# Calculate Accuracy and each class Precision-Recall\n",
        "\n",
        "def custom_precision(y, y_hat, cls):\n",
        "  if isinstance(y, pd.Series):\n",
        "    y = y.values\n",
        "  tp = 0.0\n",
        "  fp = 0.0\n",
        "  for i in range(len(y)):\n",
        "    if y_hat[i] == cls and y[i] == cls:\n",
        "      tp = tp+ 1\n",
        "    if y_hat[i] == cls and y[i] != cls:\n",
        "      fp =fp + 1\n",
        "  return tp/ float(tp+fp)\n",
        "  pass\n",
        "\n",
        "def custom_recall(y, y_hat, cls):\n",
        "  if isinstance(y, pd.Series):\n",
        "    y = y.values\n",
        "  tp = 0.0\n",
        "  fn = 0.0\n",
        "  for i in range(len(y_hat)):\n",
        "    if y_hat[i] == cls and y[i] == cls:\n",
        "      tp = tp + 1\n",
        "    if y_hat[i] != cls and y[i] == cls:\n",
        "      fn =fn + 1\n",
        "  return tp / float(tp+fn)\n",
        "  pass\n",
        "\n",
        "def custom_acc(y, y_hat):\n",
        "  if isinstance(y, pd.Series):\n",
        "    y = y.values\n",
        "  return float(sum(y_hat==y) / (len(y)))\n",
        "  pass\n",
        "\n",
        "print('Accuracy: ', custom_acc(Y_test, Y_hat))\n",
        "\n",
        "for cls in np.unique(Y_test):\n",
        "    print('Class: ', cls)\n",
        "    print('Precision: ', custom_precision(Y_test, Y_hat, cls))\n",
        "    print('Recall: ', custom_recall(Y_test, Y_hat, cls))\n",
        "    print()"
      ],
      "metadata": {
        "id": "KTo7RK4ex--P",
        "colab": {
          "base_uri": "https://localhost:8080/"
        },
        "outputId": "c37bc4b7-562f-4a96-e0d6-ab738866de9b"
      },
      "execution_count": null,
      "outputs": [
        {
          "output_type": "stream",
          "name": "stdout",
          "text": [
            "Accuracy:  0.885\n",
            "Class:  0\n",
            "Precision:  0.9\n",
            "Recall:  0.9473684210526315\n",
            "\n",
            "Class:  1\n",
            "Precision:  0.8214285714285714\n",
            "Recall:  1.0\n",
            "\n",
            "Class:  2\n",
            "Precision:  0.8823529411764706\n",
            "Recall:  0.75\n",
            "\n",
            "Class:  3\n",
            "Precision:  0.9\n",
            "Recall:  0.9473684210526315\n",
            "\n",
            "Class:  4\n",
            "Precision:  0.9090909090909091\n",
            "Recall:  0.9523809523809523\n",
            "\n",
            "Class:  5\n",
            "Precision:  0.875\n",
            "Recall:  0.7368421052631579\n",
            "\n",
            "Class:  6\n",
            "Precision:  0.95\n",
            "Recall:  1.0\n",
            "\n",
            "Class:  7\n",
            "Precision:  0.9523809523809523\n",
            "Recall:  0.8695652173913043\n",
            "\n",
            "Class:  8\n",
            "Precision:  0.8\n",
            "Recall:  0.7058823529411765\n",
            "\n",
            "Class:  9\n",
            "Precision:  0.8571428571428571\n",
            "Recall:  0.9\n",
            "\n"
          ]
        }
      ]
    },
    {
      "cell_type": "code",
      "source": [
        "# Create a plot for confusion matrix with label\n",
        "# For confusion matrix you can use sklearn confusion matrix function\n",
        "# Write your code below this\n",
        "cmknn = confusion_matrix(Y_test, Y_hat)\n",
        "print(cmknn)\n",
        "knn_cm = pd.DataFrame(cmknn, index = range(10), columns =  range(10))\n",
        "plt.figure(figsize = (10,10))\n",
        "sn.heatmap(knn_cm, annot=True)\n",
        "plt.title('Confusion Matrix')\n",
        "plt.ylabel('True label')\n",
        "plt.xlabel('Predicted label')\n",
        "plt.show()"
      ],
      "metadata": {
        "id": "CmYl8kegyBM1",
        "colab": {
          "base_uri": "https://localhost:8080/",
          "height": 795
        },
        "outputId": "571d3bff-2650-4c3c-90f6-eabfb0767c61"
      },
      "execution_count": null,
      "outputs": [
        {
          "output_type": "stream",
          "name": "stdout",
          "text": [
            "[[18  0  0  0  0  1  0  0  0  0]\n",
            " [ 0 23  0  0  0  0  0  0  0  0]\n",
            " [ 1  3 15  0  0  0  0  1  0  0]\n",
            " [ 0  0  0 18  0  0  0  0  0  1]\n",
            " [ 0  0  0  0 20  0  0  0  0  1]\n",
            " [ 1  0  0  0  0 14  0  0  3  1]\n",
            " [ 0  0  0  0  0  0 19  0  0  0]\n",
            " [ 0  2  1  0  0  0  0 20  0  0]\n",
            " [ 0  0  1  2  0  1  1  0 12  0]\n",
            " [ 0  0  0  0  2  0  0  0  0 18]]\n"
          ]
        },
        {
          "output_type": "display_data",
          "data": {
            "image/png": "[encoded data removed]",
            "text/plain": [
              "<Figure size 720x720 with 2 Axes>"
            ]
          },
          "metadata": {
            "needs_background": "light"
          }
        }
      ]
    }
  ]
}